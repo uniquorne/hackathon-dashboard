{
 "cells": [
  {
   "cell_type": "code",
   "execution_count": 2,
   "id": "7f074506-b754-493d-9a29-da1e352828c3",
   "metadata": {},
   "outputs": [
    {
     "name": "stdout",
     "output_type": "stream",
     "text": [
      "Collecting jupyter_dash\n",
      "  Downloading jupyter_dash-0.4.2-py3-none-any.whl.metadata (3.6 kB)\n",
      "Collecting dash (from jupyter_dash)\n",
      "  Downloading dash-2.17.0-py3-none-any.whl.metadata (10 kB)\n",
      "Requirement already satisfied: requests in c:\\users\\lmhub\\anaconda3\\lib\\site-packages (from jupyter_dash) (2.31.0)\n",
      "Requirement already satisfied: flask in c:\\users\\lmhub\\anaconda3\\lib\\site-packages (from jupyter_dash) (2.2.5)\n",
      "Collecting retrying (from jupyter_dash)\n",
      "  Downloading retrying-1.3.4-py3-none-any.whl.metadata (6.9 kB)\n",
      "Requirement already satisfied: ipython in c:\\users\\lmhub\\anaconda3\\lib\\site-packages (from jupyter_dash) (8.20.0)\n",
      "Requirement already satisfied: ipykernel in c:\\users\\lmhub\\anaconda3\\lib\\site-packages (from jupyter_dash) (6.28.0)\n",
      "Collecting ansi2html (from jupyter_dash)\n",
      "  Downloading ansi2html-1.9.1-py3-none-any.whl.metadata (3.7 kB)\n",
      "Requirement already satisfied: nest-asyncio in c:\\users\\lmhub\\anaconda3\\lib\\site-packages (from jupyter_dash) (1.6.0)\n",
      "Requirement already satisfied: Werkzeug<3.1 in c:\\users\\lmhub\\anaconda3\\lib\\site-packages (from dash->jupyter_dash) (2.2.3)\n",
      "Requirement already satisfied: plotly>=5.0.0 in c:\\users\\lmhub\\anaconda3\\lib\\site-packages (from dash->jupyter_dash) (5.9.0)\n",
      "Collecting dash-html-components==2.0.0 (from dash->jupyter_dash)\n",
      "  Downloading dash_html_components-2.0.0-py3-none-any.whl.metadata (3.8 kB)\n",
      "Collecting dash-core-components==2.0.0 (from dash->jupyter_dash)\n",
      "  Downloading dash_core_components-2.0.0-py3-none-any.whl.metadata (2.9 kB)\n",
      "Collecting dash-table==5.0.0 (from dash->jupyter_dash)\n",
      "  Downloading dash_table-5.0.0-py3-none-any.whl.metadata (2.4 kB)\n",
      "Requirement already satisfied: importlib-metadata in c:\\users\\lmhub\\anaconda3\\lib\\site-packages (from dash->jupyter_dash) (7.0.1)\n",
      "Requirement already satisfied: typing-extensions>=4.1.1 in c:\\users\\lmhub\\anaconda3\\lib\\site-packages (from dash->jupyter_dash) (4.9.0)\n",
      "Requirement already satisfied: setuptools in c:\\users\\lmhub\\anaconda3\\lib\\site-packages (from dash->jupyter_dash) (68.2.2)\n",
      "Requirement already satisfied: Jinja2>=3.0 in c:\\users\\lmhub\\anaconda3\\lib\\site-packages (from flask->jupyter_dash) (3.1.3)\n",
      "Requirement already satisfied: itsdangerous>=2.0 in c:\\users\\lmhub\\anaconda3\\lib\\site-packages (from flask->jupyter_dash) (2.0.1)\n",
      "Requirement already satisfied: click>=8.0 in c:\\users\\lmhub\\anaconda3\\lib\\site-packages (from flask->jupyter_dash) (8.1.7)\n",
      "Requirement already satisfied: comm>=0.1.1 in c:\\users\\lmhub\\anaconda3\\lib\\site-packages (from ipykernel->jupyter_dash) (0.1.2)\n",
      "Requirement already satisfied: debugpy>=1.6.5 in c:\\users\\lmhub\\anaconda3\\lib\\site-packages (from ipykernel->jupyter_dash) (1.6.7)\n",
      "Requirement already satisfied: jupyter-client>=6.1.12 in c:\\users\\lmhub\\anaconda3\\lib\\site-packages (from ipykernel->jupyter_dash) (8.6.0)\n",
      "Requirement already satisfied: jupyter-core!=5.0.*,>=4.12 in c:\\users\\lmhub\\anaconda3\\lib\\site-packages (from ipykernel->jupyter_dash) (5.5.0)\n",
      "Requirement already satisfied: matplotlib-inline>=0.1 in c:\\users\\lmhub\\anaconda3\\lib\\site-packages (from ipykernel->jupyter_dash) (0.1.6)\n",
      "Requirement already satisfied: packaging in c:\\users\\lmhub\\anaconda3\\lib\\site-packages (from ipykernel->jupyter_dash) (23.1)\n",
      "Requirement already satisfied: psutil in c:\\users\\lmhub\\anaconda3\\lib\\site-packages (from ipykernel->jupyter_dash) (5.9.0)\n",
      "Requirement already satisfied: pyzmq>=24 in c:\\users\\lmhub\\anaconda3\\lib\\site-packages (from ipykernel->jupyter_dash) (25.1.2)\n",
      "Requirement already satisfied: tornado>=6.1 in c:\\users\\lmhub\\anaconda3\\lib\\site-packages (from ipykernel->jupyter_dash) (6.3.3)\n",
      "Requirement already satisfied: traitlets>=5.4.0 in c:\\users\\lmhub\\anaconda3\\lib\\site-packages (from ipykernel->jupyter_dash) (5.7.1)\n",
      "Requirement already satisfied: decorator in c:\\users\\lmhub\\anaconda3\\lib\\site-packages (from ipython->jupyter_dash) (5.1.1)\n",
      "Requirement already satisfied: jedi>=0.16 in c:\\users\\lmhub\\anaconda3\\lib\\site-packages (from ipython->jupyter_dash) (0.18.1)\n",
      "Requirement already satisfied: prompt-toolkit<3.1.0,>=3.0.41 in c:\\users\\lmhub\\anaconda3\\lib\\site-packages (from ipython->jupyter_dash) (3.0.43)\n",
      "Requirement already satisfied: pygments>=2.4.0 in c:\\users\\lmhub\\anaconda3\\lib\\site-packages (from ipython->jupyter_dash) (2.15.1)\n",
      "Requirement already satisfied: stack-data in c:\\users\\lmhub\\anaconda3\\lib\\site-packages (from ipython->jupyter_dash) (0.2.0)\n",
      "Requirement already satisfied: colorama in c:\\users\\lmhub\\anaconda3\\lib\\site-packages (from ipython->jupyter_dash) (0.4.6)\n",
      "Requirement already satisfied: charset-normalizer<4,>=2 in c:\\users\\lmhub\\anaconda3\\lib\\site-packages (from requests->jupyter_dash) (2.0.4)\n",
      "Requirement already satisfied: idna<4,>=2.5 in c:\\users\\lmhub\\anaconda3\\lib\\site-packages (from requests->jupyter_dash) (3.4)\n",
      "Requirement already satisfied: urllib3<3,>=1.21.1 in c:\\users\\lmhub\\anaconda3\\lib\\site-packages (from requests->jupyter_dash) (2.0.7)\n",
      "Requirement already satisfied: certifi>=2017.4.17 in c:\\users\\lmhub\\anaconda3\\lib\\site-packages (from requests->jupyter_dash) (2024.2.2)\n",
      "Requirement already satisfied: six>=1.7.0 in c:\\users\\lmhub\\anaconda3\\lib\\site-packages (from retrying->jupyter_dash) (1.16.0)\n",
      "Requirement already satisfied: parso<0.9.0,>=0.8.0 in c:\\users\\lmhub\\anaconda3\\lib\\site-packages (from jedi>=0.16->ipython->jupyter_dash) (0.8.3)\n",
      "Requirement already satisfied: MarkupSafe>=2.0 in c:\\users\\lmhub\\anaconda3\\lib\\site-packages (from Jinja2>=3.0->flask->jupyter_dash) (2.1.3)\n",
      "Requirement already satisfied: python-dateutil>=2.8.2 in c:\\users\\lmhub\\anaconda3\\lib\\site-packages (from jupyter-client>=6.1.12->ipykernel->jupyter_dash) (2.8.2)\n",
      "Requirement already satisfied: platformdirs>=2.5 in c:\\users\\lmhub\\anaconda3\\lib\\site-packages (from jupyter-core!=5.0.*,>=4.12->ipykernel->jupyter_dash) (3.10.0)\n",
      "Requirement already satisfied: pywin32>=300 in c:\\users\\lmhub\\anaconda3\\lib\\site-packages (from jupyter-core!=5.0.*,>=4.12->ipykernel->jupyter_dash) (305.1)\n",
      "Requirement already satisfied: tenacity>=6.2.0 in c:\\users\\lmhub\\anaconda3\\lib\\site-packages (from plotly>=5.0.0->dash->jupyter_dash) (8.2.2)\n",
      "Requirement already satisfied: wcwidth in c:\\users\\lmhub\\anaconda3\\lib\\site-packages (from prompt-toolkit<3.1.0,>=3.0.41->ipython->jupyter_dash) (0.2.5)\n",
      "Requirement already satisfied: zipp>=0.5 in c:\\users\\lmhub\\anaconda3\\lib\\site-packages (from importlib-metadata->dash->jupyter_dash) (3.17.0)\n",
      "Requirement already satisfied: executing in c:\\users\\lmhub\\anaconda3\\lib\\site-packages (from stack-data->ipython->jupyter_dash) (0.8.3)\n",
      "Requirement already satisfied: asttokens in c:\\users\\lmhub\\anaconda3\\lib\\site-packages (from stack-data->ipython->jupyter_dash) (2.0.5)\n",
      "Requirement already satisfied: pure-eval in c:\\users\\lmhub\\anaconda3\\lib\\site-packages (from stack-data->ipython->jupyter_dash) (0.2.2)\n",
      "Downloading jupyter_dash-0.4.2-py3-none-any.whl (23 kB)\n",
      "Downloading ansi2html-1.9.1-py3-none-any.whl (17 kB)\n",
      "Downloading dash-2.17.0-py3-none-any.whl (7.5 MB)\n",
      "   ---------------------------------------- 0.0/7.5 MB ? eta -:--:--\n",
      "   - -------------------------------------- 0.3/7.5 MB 5.4 MB/s eta 0:00:02\n",
      "   --- ------------------------------------ 0.7/7.5 MB 8.8 MB/s eta 0:00:01\n",
      "   ------ --------------------------------- 1.2/7.5 MB 9.7 MB/s eta 0:00:01\n",
      "   --------- ------------------------------ 1.8/7.5 MB 10.3 MB/s eta 0:00:01\n",
      "   ------------ --------------------------- 2.3/7.5 MB 10.6 MB/s eta 0:00:01\n",
      "   --------------- ------------------------ 2.8/7.5 MB 10.7 MB/s eta 0:00:01\n",
      "   ------------------ --------------------- 3.4/7.5 MB 10.8 MB/s eta 0:00:01\n",
      "   -------------------- ------------------- 3.9/7.5 MB 10.9 MB/s eta 0:00:01\n",
      "   ----------------------- ---------------- 4.5/7.5 MB 11.0 MB/s eta 0:00:01\n",
      "   -------------------------- ------------- 4.9/7.5 MB 10.9 MB/s eta 0:00:01\n",
      "   ---------------------------- ----------- 5.3/7.5 MB 10.5 MB/s eta 0:00:01\n",
      "   ----------------------------- ---------- 5.6/7.5 MB 10.1 MB/s eta 0:00:01\n",
      "   ------------------------------- -------- 5.9/7.5 MB 9.9 MB/s eta 0:00:01\n",
      "   -------------------------------- ------- 6.1/7.5 MB 9.7 MB/s eta 0:00:01\n",
      "   ---------------------------------- ----- 6.5/7.5 MB 9.4 MB/s eta 0:00:01\n",
      "   ------------------------------------ --- 6.8/7.5 MB 9.2 MB/s eta 0:00:01\n",
      "   -------------------------------------- - 7.1/7.5 MB 9.1 MB/s eta 0:00:01\n",
      "   ---------------------------------------  7.4/7.5 MB 9.0 MB/s eta 0:00:01\n",
      "   ---------------------------------------  7.5/7.5 MB 9.0 MB/s eta 0:00:01\n",
      "   ---------------------------------------- 7.5/7.5 MB 8.3 MB/s eta 0:00:00\n",
      "Downloading dash_core_components-2.0.0-py3-none-any.whl (3.8 kB)\n",
      "Downloading dash_html_components-2.0.0-py3-none-any.whl (4.1 kB)\n",
      "Downloading dash_table-5.0.0-py3-none-any.whl (3.9 kB)\n",
      "Downloading retrying-1.3.4-py3-none-any.whl (11 kB)\n",
      "Installing collected packages: dash-table, dash-html-components, dash-core-components, retrying, ansi2html, dash, jupyter_dash\n",
      "Successfully installed ansi2html-1.9.1 dash-2.17.0 dash-core-components-2.0.0 dash-html-components-2.0.0 dash-table-5.0.0 jupyter_dash-0.4.2 retrying-1.3.4\n"
     ]
    }
   ],
   "source": [
    "!pip install jupyter_dash"
   ]
  },
  {
   "cell_type": "code",
   "execution_count": 3,
   "id": "cd2ff05a-cec2-4a75-815c-4372b987fea7",
   "metadata": {},
   "outputs": [
    {
     "name": "stderr",
     "output_type": "stream",
     "text": [
      "C:\\Users\\lmhub\\anaconda3\\Lib\\site-packages\\dash\\dash.py:556: UserWarning:\n",
      "\n",
      "JupyterDash is deprecated, use Dash instead.\n",
      "See https://dash.plotly.com/dash-in-jupyter for more details.\n",
      "\n"
     ]
    },
    {
     "data": {
      "text/html": [
       "\n",
       "        <iframe\n",
       "            width=\"100%\"\n",
       "            height=\"650\"\n",
       "            src=\"http://127.0.0.1:8050/\"\n",
       "            frameborder=\"0\"\n",
       "            allowfullscreen\n",
       "            \n",
       "        ></iframe>\n",
       "        "
      ],
      "text/plain": [
       "<IPython.lib.display.IFrame at 0x21d9fca2a90>"
      ]
     },
     "metadata": {},
     "output_type": "display_data"
    },
    {
     "data": {
      "text/html": [
       "\n",
       "        <iframe\n",
       "            width=\"100%\"\n",
       "            height=\"650\"\n",
       "            src=\"http://127.0.0.1:8050/\"\n",
       "            frameborder=\"0\"\n",
       "            allowfullscreen\n",
       "            \n",
       "        ></iframe>\n",
       "        "
      ],
      "text/plain": [
       "<IPython.lib.display.IFrame at 0x21d9f7ced10>"
      ]
     },
     "metadata": {},
     "output_type": "display_data"
    }
   ],
   "source": [
    "from jupyter_dash import JupyterDash\n",
    "import dash\n",
    "from dash import dcc, html\n",
    "from dash.dependencies import Input, Output\n",
    "import random\n",
    "\n",
    "# Initialize the Dash app\n",
    "app = JupyterDash(__name__)\n",
    "\n",
    "# Define the layout\n",
    "app.layout = html.Div([\n",
    "    dcc.Graph(id='live-update-graph'),\n",
    "    dcc.Interval(id='interval-component', interval=1*1000, n_intervals=0)\n",
    "])\n",
    "\n",
    "# Define the callback to update the graph\n",
    "@app.callback(Output('live-update-graph', 'figure'), [Input('interval-component', 'n_intervals')])\n",
    "def update_graph_live(n):\n",
    "    x = list(range(n))\n",
    "    y = [random.randint(0, 100) for _ in range(n)]\n",
    "    figure = {\n",
    "        'data': [{'x': x, 'y': y, 'type': 'line'}],\n",
    "        'layout': {'title': 'Real-Time Data'}\n",
    "    }\n",
    "    return figure\n",
    "\n",
    "# Run the app\n",
    "app.run_server(mode='inline')\n"
   ]
  },
  {
   "cell_type": "code",
   "execution_count": null,
   "id": "2fd7fae7-5f62-47fd-81f4-8f2bf4e4795a",
   "metadata": {},
   "outputs": [],
   "source": []
  }
 ],
 "metadata": {
  "kernelspec": {
   "display_name": "Python 3 (ipykernel)",
   "language": "python",
   "name": "python3"
  },
  "language_info": {
   "codemirror_mode": {
    "name": "ipython",
    "version": 3
   },
   "file_extension": ".py",
   "mimetype": "text/x-python",
   "name": "python",
   "nbconvert_exporter": "python",
   "pygments_lexer": "ipython3",
   "version": "3.11.7"
  }
 },
 "nbformat": 4,
 "nbformat_minor": 5
}
