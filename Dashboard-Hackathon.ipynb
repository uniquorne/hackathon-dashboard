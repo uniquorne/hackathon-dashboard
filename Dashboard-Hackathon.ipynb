{
 "cells": [
  {
   "cell_type": "markdown",
   "id": "b9638095",
   "metadata": {},
   "source": [
    "# A Mood Dashboard for the MAYke It! Hackathon"
   ]
  },
  {
   "cell_type": "markdown",
   "id": "3c589fe3",
   "metadata": {},
   "source": [
    "## Metrics\n",
    "- Hours of Sleep per Night\n",
    "- Minutes of Workout (Physical Activity)\n",
    "- Time Spent Socializing in Minutes\n",
    "- Energy Levels: On a scale from 1-10\n",
    "- Mood: ten categories: \"happy\", \"sad\", \"anxious\", \"depressed\", \"content\", \"angry\", \"excited\", \"bored\", \"stressed\", \"relaxed\"\n",
    "- Screen Time in Minutes\n",
    "- Sleep Quality on a scale from 1-10\n",
    "- Rainfall in Millimeters\n",
    "- Sunshine in Hours"
   ]
  },
  {
   "cell_type": "markdown",
   "id": "13e286b9",
   "metadata": {},
   "source": [
    "## Generating a synthetic dataset for these metrics"
   ]
  },
  {
   "cell_type": "code",
   "execution_count": 1,
   "id": "1ff30deb",
   "metadata": {},
   "outputs": [],
   "source": [
    "import random\n",
    "import pandas as pd\n",
    "from datetime import datetime, timedelta"
   ]
  },
  {
   "cell_type": "code",
   "execution_count": 2,
   "id": "b457a9bf",
   "metadata": {},
   "outputs": [],
   "source": [
    "moods = [\"happy\", \"sad\", \"anxious\", \"depressed\", \"content\", \n",
    "         \"angry\", \"excited\", \"bored\", \"stressed\", \"relaxed\"]"
   ]
  },
  {
   "cell_type": "code",
   "execution_count": 3,
   "id": "fa145083",
   "metadata": {},
   "outputs": [],
   "source": [
    "def generate_synthetic_data(num_days):\n",
    "    data = []\n",
    "    current_date = datetime.now()\n",
    "    good_moods = [\"happy\", \"content\", \"excited\", \"relaxed\"]\n",
    "    bad_moods = [\"sad\", \"depressed\", \"bored\", \"anxious\", \"stressed\", \"angry\"]\n",
    "    mixed_moods = [\"content\", \"relaxed\", \"bored\"]\n",
    "\n",
    "    for i in range(num_days):\n",
    "        date = current_date - timedelta(days=i)\n",
    "        mood = random.choice(good_moods + bad_moods)\n",
    "\n",
    "        if mood in good_moods:\n",
    "            sleep_hours = round(random.uniform(6, 9), 2)\n",
    "            workout_minutes = random.randint(30, 120)\n",
    "            social_interaction_minutes = random.randint(60, 300)\n",
    "            energy_level = random.randint(7, 10)\n",
    "        else:\n",
    "            sleep_hours = round(random.uniform(4, 7), 2)\n",
    "            workout_minutes = random.randint(0, 60)\n",
    "            social_interaction_minutes = random.randint(0, 120)\n",
    "            energy_level = random.randint(1, 6)\n",
    "\n",
    "        if mood in mixed_moods:\n",
    "            sleep_quality = random.randint(7, 10)\n",
    "        else:\n",
    "            sleep_quality = random.randint(1, 6)\n",
    "\n",
    "        if mood in bad_moods:\n",
    "            screen_time_minutes = random.randint(240, 480)\n",
    "        else:\n",
    "            screen_time_minutes = random.randint(60, 240)\n",
    "\n",
    "        rainfall_mm = round(random.uniform(0, 100), 2)\n",
    "        sunshine_hours = round(random.uniform(0, 12), 2)\n",
    "\n",
    "        data.append((date, sleep_hours, workout_minutes, social_interaction_minutes, energy_level, mood, screen_time_minutes, sleep_quality, rainfall_mm, sunshine_hours))\n",
    "    \n",
    "    return pd.DataFrame(data, columns=['date', 'sleep_hours', 'workout_minutes', 'social_interaction_minutes', 'energy_level', 'mood', 'screen_time_minutes', 'sleep_quality', 'rainfall_mm', 'sunshine_hours'])"
   ]
  },
  {
   "cell_type": "code",
   "execution_count": 4,
   "id": "397040da",
   "metadata": {},
   "outputs": [
    {
     "name": "stdout",
     "output_type": "stream",
     "text": [
      "                        date  sleep_hours  workout_minutes  \\\n",
      "0 2024-05-17 22:15:25.239581         5.09               24   \n",
      "1 2024-05-16 22:15:25.239581         5.66               38   \n",
      "2 2024-05-15 22:15:25.239581         4.75               19   \n",
      "3 2024-05-14 22:15:25.239581         5.95                3   \n",
      "4 2024-05-13 22:15:25.239581         6.45               99   \n",
      "\n",
      "   social_interaction_minutes  energy_level      mood  screen_time_minutes  \\\n",
      "0                         110             5  stressed                  326   \n",
      "1                          28             3       sad                  249   \n",
      "2                          16             1  stressed                  350   \n",
      "3                         113             3     angry                  256   \n",
      "4                         285             9   content                  226   \n",
      "\n",
      "   sleep_quality  rainfall_mm  sunshine_hours  \n",
      "0              5        92.58            1.11  \n",
      "1              6        83.28            2.17  \n",
      "2              4        39.13            3.45  \n",
      "3              1        44.54            0.71  \n",
      "4              7        38.83            3.73  \n"
     ]
    }
   ],
   "source": [
    "num_days = 1095 # three years\n",
    "synthetic_data = generate_synthetic_data(num_days)\n",
    "print(synthetic_data.head())"
   ]
  },
  {
   "cell_type": "code",
   "execution_count": 5,
   "id": "2f82f679",
   "metadata": {},
   "outputs": [],
   "source": [
    "synthetic_data.to_csv(\"data/synthetic_mood_data.csv\", index=False)"
   ]
  },
  {
   "cell_type": "code",
   "execution_count": 6,
   "id": "04656658",
   "metadata": {},
   "outputs": [
    {
     "name": "stdout",
     "output_type": "stream",
     "text": [
      "Requirement already satisfied: psycopg2 in c:\\users\\lmhub\\miniconda3\\envs\\ds-env\\lib\\site-packages (2.9.9)\n",
      "Requirement already satisfied: python-dotenv in c:\\users\\lmhub\\miniconda3\\envs\\ds-env\\lib\\site-packages (1.0.1)\n"
     ]
    }
   ],
   "source": [
    "!pip install psycopg2\n",
    "!pip install python-dotenv"
   ]
  },
  {
   "cell_type": "code",
   "execution_count": 7,
   "id": "4f1703c3",
   "metadata": {},
   "outputs": [],
   "source": [
    "import os\n",
    "import psycopg2\n",
    "from psycopg2 import sql\n",
    "from dotenv import load_dotenv\n",
    "\n",
    "# Load environment variables from .env file. Set your database connection data in this file!\n",
    "load_dotenv(\"postgres.env\")\n",
    "\n",
    "# Retrieve environment variables\n",
    "dbname = os.getenv('PGDATABASE')\n",
    "user = os.getenv('PGUSER')\n",
    "password = os.getenv('PGPASSWORD')\n",
    "host = os.getenv('PGHOST')\n",
    "port = os.getenv('PGPORT')"
   ]
  },
  {
   "cell_type": "code",
   "execution_count": 8,
   "id": "46aa34ae",
   "metadata": {},
   "outputs": [],
   "source": [
    "def reset_table():\n",
    "    conn = psycopg2.connect(dbname=dbname, user=user, password=password, host=host, port=port)\n",
    "    cursor = conn.cursor()\n",
    "    \n",
    "    # Drop the existing table\n",
    "    cursor.execute(\"DROP TABLE IF EXISTS user_activities\")\n",
    "    \n",
    "    # Create the table\n",
    "    cursor.execute(\"\"\"\n",
    "    CREATE TABLE user_activities (\n",
    "        id SERIAL PRIMARY KEY,\n",
    "        date DATE,\n",
    "        sleep_hours FLOAT,\n",
    "        workout_minutes INT,\n",
    "        social_interaction_minutes INT,\n",
    "        energy_level INT,\n",
    "        mood VARCHAR(50),\n",
    "        screen_time_minutes INT,\n",
    "        sleep_quality INT,\n",
    "        rainfall_mm FLOAT,\n",
    "        sunshine_hours FLOAT\n",
    "    )\n",
    "    \"\"\")\n",
    "    \n",
    "    conn.commit()\n",
    "    cursor.close()\n",
    "    conn.close()"
   ]
  },
  {
   "cell_type": "code",
   "execution_count": 9,
   "id": "dd8d7715",
   "metadata": {},
   "outputs": [
    {
     "name": "stdout",
     "output_type": "stream",
     "text": [
      "Data inserted successfully!\n"
     ]
    }
   ],
   "source": [
    "def insert_data_to_postgresql(dataframe):\n",
    "    try:\n",
    "        # Connect to PostgreSQL\n",
    "        conn = psycopg2.connect(\n",
    "            dbname=dbname,\n",
    "            user=user,\n",
    "            password=password,\n",
    "            host=host,\n",
    "            port=port\n",
    "        )\n",
    "        cursor = conn.cursor()\n",
    "        \n",
    "        # Insert data\n",
    "        for _, row in dataframe.iterrows():\n",
    "            cursor.execute(\n",
    "                sql.SQL(\"\"\"\n",
    "                    INSERT INTO user_activities (\n",
    "                        date, sleep_hours, workout_minutes, social_interaction_minutes,\n",
    "                        energy_level, mood, screen_time_minutes, sleep_quality,\n",
    "                        rainfall_mm, sunshine_hours\n",
    "                    ) VALUES (%s, %s, %s, %s, %s, %s, %s, %s, %s, %s)\n",
    "                \"\"\"),\n",
    "                (\n",
    "                    row['date'], row['sleep_hours'], row['workout_minutes'],\n",
    "                    row['social_interaction_minutes'], row['energy_level'],\n",
    "                    row['mood'], row['screen_time_minutes'], row['sleep_quality'],\n",
    "                    row['rainfall_mm'], row['sunshine_hours']\n",
    "                )\n",
    "            )\n",
    "        \n",
    "        # Commit changes and close the connection\n",
    "        conn.commit()\n",
    "        cursor.close()\n",
    "        conn.close()\n",
    "        \n",
    "        print(\"Data inserted successfully!\")\n",
    "    \n",
    "    except Exception as error:\n",
    "        print(f\"Error: {error}\")\n",
    "\n",
    "insert_data_to_postgresql(synthetic_data)"
   ]
  },
  {
   "cell_type": "code",
   "execution_count": 10,
   "id": "2a0b92bb",
   "metadata": {},
   "outputs": [
    {
     "name": "stdout",
     "output_type": "stream",
     "text": [
      "Total rows inserted: 6570\n",
      "Sample rows:\n",
      "(1, datetime.date(2021, 5, 18), 8.26, 51, 71, 9, 'sad', 459, 7, 58.21, 2.87)\n",
      "(2, datetime.date(2021, 5, 19), 4.15, 48, 98, 4, 'sad', 326, 1, 7.73, 7.16)\n",
      "(3, datetime.date(2021, 5, 20), 5.7, 16, 288, 7, 'bored', 291, 5, 5.3, 2.38)\n",
      "(4, datetime.date(2021, 5, 21), 7.51, 77, 246, 7, 'stressed', 238, 2, 3.18, 0.69)\n",
      "(5, datetime.date(2021, 5, 22), 7.16, 29, 31, 10, 'content', 195, 4, 30.33, 2.92)\n"
     ]
    }
   ],
   "source": [
    "def verify_data():\n",
    "    try:\n",
    "        # Connect to PostgreSQL\n",
    "        conn = psycopg2.connect(\n",
    "            dbname=dbname,\n",
    "            user=user,\n",
    "            password=password,\n",
    "            host=host,\n",
    "            port=port\n",
    "        )\n",
    "        cursor = conn.cursor()\n",
    "        \n",
    "        # Query to count rows in the table\n",
    "        cursor.execute(\"SELECT COUNT(*) FROM user_activities;\")\n",
    "        count = cursor.fetchone()[0]\n",
    "        \n",
    "        # Fetch some sample rows\n",
    "        cursor.execute(\"SELECT * FROM user_activities LIMIT 5;\")\n",
    "        rows = cursor.fetchall()\n",
    "        \n",
    "        cursor.close()\n",
    "        conn.close()\n",
    "        \n",
    "        print(f\"Total rows inserted: {count}\")\n",
    "        print(\"Sample rows:\")\n",
    "        for row in rows:\n",
    "            print(row)\n",
    "    \n",
    "    except Exception as error:\n",
    "        print(f\"Error: {error}\")\n",
    "\n",
    "# Verify data insertion\n",
    "verify_data()"
   ]
  },
  {
   "cell_type": "markdown",
   "id": "d57a7229",
   "metadata": {},
   "source": [
    "## Building the dashboard"
   ]
  },
  {
   "cell_type": "code",
   "execution_count": 11,
   "id": "8b446e53",
   "metadata": {},
   "outputs": [
    {
     "name": "stdout",
     "output_type": "stream",
     "text": [
      "Requirement already satisfied: dash in c:\\users\\lmhub\\miniconda3\\envs\\ds-env\\lib\\site-packages (2.17.0)\n",
      "Requirement already satisfied: cloudpickle in c:\\users\\lmhub\\miniconda3\\envs\\ds-env\\lib\\site-packages (3.0.0)\n",
      "Requirement already satisfied: fsspec in c:\\users\\lmhub\\miniconda3\\envs\\ds-env\\lib\\site-packages (2024.5.0)\n",
      "Requirement already satisfied: partd in c:\\users\\lmhub\\miniconda3\\envs\\ds-env\\lib\\site-packages (1.4.2)\n",
      "Requirement already satisfied: pyyaml in c:\\users\\lmhub\\miniconda3\\envs\\ds-env\\lib\\site-packages (6.0.1)\n",
      "Requirement already satisfied: toolz in c:\\users\\lmhub\\miniconda3\\envs\\ds-env\\lib\\site-packages (0.12.1)\n",
      "Requirement already satisfied: locket in c:\\users\\lmhub\\miniconda3\\envs\\ds-env\\lib\\site-packages (1.0.0)\n",
      "Requirement already satisfied: msgpack in c:\\users\\lmhub\\miniconda3\\envs\\ds-env\\lib\\site-packages (1.0.8)\n",
      "Requirement already satisfied: sortedcontainers in c:\\users\\lmhub\\miniconda3\\envs\\ds-env\\lib\\site-packages (2.4.0)\n",
      "Requirement already satisfied: tblib in c:\\users\\lmhub\\miniconda3\\envs\\ds-env\\lib\\site-packages (3.0.0)\n",
      "Requirement already satisfied: zict in c:\\users\\lmhub\\miniconda3\\envs\\ds-env\\lib\\site-packages (3.0.0)\n",
      "Requirement already satisfied: Flask<3.1,>=1.0.4 in c:\\users\\lmhub\\miniconda3\\envs\\ds-env\\lib\\site-packages (from dash) (3.0.3)\n",
      "Requirement already satisfied: Werkzeug<3.1 in c:\\users\\lmhub\\miniconda3\\envs\\ds-env\\lib\\site-packages (from dash) (3.0.3)\n",
      "Requirement already satisfied: plotly>=5.0.0 in c:\\users\\lmhub\\miniconda3\\envs\\ds-env\\lib\\site-packages (from dash) (5.22.0)\n",
      "Requirement already satisfied: dash-html-components==2.0.0 in c:\\users\\lmhub\\miniconda3\\envs\\ds-env\\lib\\site-packages (from dash) (2.0.0)\n",
      "Requirement already satisfied: dash-core-components==2.0.0 in c:\\users\\lmhub\\miniconda3\\envs\\ds-env\\lib\\site-packages (from dash) (2.0.0)\n",
      "Requirement already satisfied: dash-table==5.0.0 in c:\\users\\lmhub\\miniconda3\\envs\\ds-env\\lib\\site-packages (from dash) (5.0.0)\n",
      "Requirement already satisfied: importlib-metadata in c:\\users\\lmhub\\miniconda3\\envs\\ds-env\\lib\\site-packages (from dash) (7.1.0)\n",
      "Requirement already satisfied: typing-extensions>=4.1.1 in c:\\users\\lmhub\\miniconda3\\envs\\ds-env\\lib\\site-packages (from dash) (4.5.0)\n",
      "Requirement already satisfied: requests in c:\\users\\lmhub\\miniconda3\\envs\\ds-env\\lib\\site-packages (from dash) (2.29.0)\n",
      "Requirement already satisfied: retrying in c:\\users\\lmhub\\miniconda3\\envs\\ds-env\\lib\\site-packages (from dash) (1.3.4)\n",
      "Requirement already satisfied: nest-asyncio in c:\\users\\lmhub\\miniconda3\\envs\\ds-env\\lib\\site-packages (from dash) (1.5.6)\n",
      "Requirement already satisfied: setuptools in c:\\users\\lmhub\\miniconda3\\envs\\ds-env\\lib\\site-packages (from dash) (67.8.0)\n",
      "Requirement already satisfied: Jinja2>=3.1.2 in c:\\users\\lmhub\\miniconda3\\envs\\ds-env\\lib\\site-packages (from Flask<3.1,>=1.0.4->dash) (3.1.2)\n",
      "Requirement already satisfied: itsdangerous>=2.1.2 in c:\\users\\lmhub\\miniconda3\\envs\\ds-env\\lib\\site-packages (from Flask<3.1,>=1.0.4->dash) (2.2.0)\n",
      "Requirement already satisfied: click>=8.1.3 in c:\\users\\lmhub\\miniconda3\\envs\\ds-env\\lib\\site-packages (from Flask<3.1,>=1.0.4->dash) (8.1.7)\n",
      "Requirement already satisfied: blinker>=1.6.2 in c:\\users\\lmhub\\miniconda3\\envs\\ds-env\\lib\\site-packages (from Flask<3.1,>=1.0.4->dash) (1.8.2)\n",
      "Requirement already satisfied: tenacity>=6.2.0 in c:\\users\\lmhub\\miniconda3\\envs\\ds-env\\lib\\site-packages (from plotly>=5.0.0->dash) (8.3.0)\n",
      "Requirement already satisfied: packaging in c:\\users\\lmhub\\miniconda3\\envs\\ds-env\\lib\\site-packages (from plotly>=5.0.0->dash) (23.0)\n",
      "Requirement already satisfied: MarkupSafe>=2.1.1 in c:\\users\\lmhub\\miniconda3\\envs\\ds-env\\lib\\site-packages (from Werkzeug<3.1->dash) (2.1.1)\n",
      "Requirement already satisfied: zipp>=0.5 in c:\\users\\lmhub\\miniconda3\\envs\\ds-env\\lib\\site-packages (from importlib-metadata->dash) (3.18.2)\n",
      "Requirement already satisfied: charset-normalizer<4,>=2 in c:\\users\\lmhub\\miniconda3\\envs\\ds-env\\lib\\site-packages (from requests->dash) (2.0.4)\n",
      "Requirement already satisfied: idna<4,>=2.5 in c:\\users\\lmhub\\miniconda3\\envs\\ds-env\\lib\\site-packages (from requests->dash) (3.4)\n",
      "Requirement already satisfied: urllib3<1.27,>=1.21.1 in c:\\users\\lmhub\\miniconda3\\envs\\ds-env\\lib\\site-packages (from requests->dash) (1.26.15)\n",
      "Requirement already satisfied: certifi>=2017.4.17 in c:\\users\\lmhub\\miniconda3\\envs\\ds-env\\lib\\site-packages (from requests->dash) (2023.5.7)\n",
      "Requirement already satisfied: six>=1.7.0 in c:\\users\\lmhub\\miniconda3\\envs\\ds-env\\lib\\site-packages (from retrying->dash) (1.16.0)\n",
      "Requirement already satisfied: colorama in c:\\users\\lmhub\\miniconda3\\envs\\ds-env\\lib\\site-packages (from click>=8.1.3->Flask<3.1,>=1.0.4->dash) (0.4.6)\n"
     ]
    }
   ],
   "source": [
    "!pip install dash cloudpickle fsspec partd pyyaml toolz locket msgpack sortedcontainers tblib zict"
   ]
  },
  {
   "cell_type": "code",
   "execution_count": 12,
   "id": "e512a642",
   "metadata": {},
   "outputs": [
    {
     "name": "stdout",
     "output_type": "stream",
     "text": [
      "Requirement already satisfied: typing_extensions==4.5.0 in c:\\users\\lmhub\\miniconda3\\envs\\ds-env\\lib\\site-packages (4.5.0)\n",
      "Requirement already satisfied: sqlalchemy==1.4.35 in c:\\users\\lmhub\\miniconda3\\envs\\ds-env\\lib\\site-packages (1.4.35)\n",
      "Requirement already satisfied: greenlet!=0.4.17 in c:\\users\\lmhub\\miniconda3\\envs\\ds-env\\lib\\site-packages (from sqlalchemy==1.4.35) (3.0.3)\n"
     ]
    }
   ],
   "source": [
    "#!pip uninstall -y typing_extensions sqlalchemy\n",
    "!pip install typing_extensions==4.5.0 sqlalchemy==1.4.35"
   ]
  },
  {
   "cell_type": "code",
   "execution_count": 29,
   "id": "10997755",
   "metadata": {},
   "outputs": [
    {
     "name": "stdout",
     "output_type": "stream",
     "text": [
      "Collecting dash-bootstrap-components\n",
      "  Downloading dash_bootstrap_components-1.6.0-py3-none-any.whl (222 kB)\n",
      "     ---------------------------------------- 0.0/222.5 kB ? eta -:--:--\n",
      "     -------------------------------------- 222.5/222.5 kB 6.8 MB/s eta 0:00:00\n",
      "Requirement already satisfied: dash>=2.0.0 in c:\\users\\lmhub\\miniconda3\\envs\\ds-env\\lib\\site-packages (from dash-bootstrap-components) (2.17.0)\n",
      "Requirement already satisfied: Flask<3.1,>=1.0.4 in c:\\users\\lmhub\\miniconda3\\envs\\ds-env\\lib\\site-packages (from dash>=2.0.0->dash-bootstrap-components) (3.0.3)\n",
      "Requirement already satisfied: Werkzeug<3.1 in c:\\users\\lmhub\\miniconda3\\envs\\ds-env\\lib\\site-packages (from dash>=2.0.0->dash-bootstrap-components) (3.0.3)\n",
      "Requirement already satisfied: plotly>=5.0.0 in c:\\users\\lmhub\\miniconda3\\envs\\ds-env\\lib\\site-packages (from dash>=2.0.0->dash-bootstrap-components) (5.22.0)\n",
      "Requirement already satisfied: dash-html-components==2.0.0 in c:\\users\\lmhub\\miniconda3\\envs\\ds-env\\lib\\site-packages (from dash>=2.0.0->dash-bootstrap-components) (2.0.0)\n",
      "Requirement already satisfied: dash-core-components==2.0.0 in c:\\users\\lmhub\\miniconda3\\envs\\ds-env\\lib\\site-packages (from dash>=2.0.0->dash-bootstrap-components) (2.0.0)\n",
      "Requirement already satisfied: dash-table==5.0.0 in c:\\users\\lmhub\\miniconda3\\envs\\ds-env\\lib\\site-packages (from dash>=2.0.0->dash-bootstrap-components) (5.0.0)\n",
      "Requirement already satisfied: importlib-metadata in c:\\users\\lmhub\\miniconda3\\envs\\ds-env\\lib\\site-packages (from dash>=2.0.0->dash-bootstrap-components) (7.1.0)\n",
      "Requirement already satisfied: typing-extensions>=4.1.1 in c:\\users\\lmhub\\miniconda3\\envs\\ds-env\\lib\\site-packages (from dash>=2.0.0->dash-bootstrap-components) (4.5.0)\n",
      "Requirement already satisfied: requests in c:\\users\\lmhub\\miniconda3\\envs\\ds-env\\lib\\site-packages (from dash>=2.0.0->dash-bootstrap-components) (2.29.0)\n",
      "Requirement already satisfied: retrying in c:\\users\\lmhub\\miniconda3\\envs\\ds-env\\lib\\site-packages (from dash>=2.0.0->dash-bootstrap-components) (1.3.4)\n",
      "Requirement already satisfied: nest-asyncio in c:\\users\\lmhub\\miniconda3\\envs\\ds-env\\lib\\site-packages (from dash>=2.0.0->dash-bootstrap-components) (1.5.6)\n",
      "Requirement already satisfied: setuptools in c:\\users\\lmhub\\miniconda3\\envs\\ds-env\\lib\\site-packages (from dash>=2.0.0->dash-bootstrap-components) (67.8.0)\n",
      "Requirement already satisfied: Jinja2>=3.1.2 in c:\\users\\lmhub\\miniconda3\\envs\\ds-env\\lib\\site-packages (from Flask<3.1,>=1.0.4->dash>=2.0.0->dash-bootstrap-components) (3.1.2)\n",
      "Requirement already satisfied: itsdangerous>=2.1.2 in c:\\users\\lmhub\\miniconda3\\envs\\ds-env\\lib\\site-packages (from Flask<3.1,>=1.0.4->dash>=2.0.0->dash-bootstrap-components) (2.2.0)\n",
      "Requirement already satisfied: click>=8.1.3 in c:\\users\\lmhub\\miniconda3\\envs\\ds-env\\lib\\site-packages (from Flask<3.1,>=1.0.4->dash>=2.0.0->dash-bootstrap-components) (8.1.7)\n",
      "Requirement already satisfied: blinker>=1.6.2 in c:\\users\\lmhub\\miniconda3\\envs\\ds-env\\lib\\site-packages (from Flask<3.1,>=1.0.4->dash>=2.0.0->dash-bootstrap-components) (1.8.2)\n",
      "Requirement already satisfied: tenacity>=6.2.0 in c:\\users\\lmhub\\miniconda3\\envs\\ds-env\\lib\\site-packages (from plotly>=5.0.0->dash>=2.0.0->dash-bootstrap-components) (8.3.0)\n",
      "Requirement already satisfied: packaging in c:\\users\\lmhub\\miniconda3\\envs\\ds-env\\lib\\site-packages (from plotly>=5.0.0->dash>=2.0.0->dash-bootstrap-components) (23.0)\n",
      "Requirement already satisfied: MarkupSafe>=2.1.1 in c:\\users\\lmhub\\miniconda3\\envs\\ds-env\\lib\\site-packages (from Werkzeug<3.1->dash>=2.0.0->dash-bootstrap-components) (2.1.1)\n",
      "Requirement already satisfied: zipp>=0.5 in c:\\users\\lmhub\\miniconda3\\envs\\ds-env\\lib\\site-packages (from importlib-metadata->dash>=2.0.0->dash-bootstrap-components) (3.18.2)\n",
      "Requirement already satisfied: charset-normalizer<4,>=2 in c:\\users\\lmhub\\miniconda3\\envs\\ds-env\\lib\\site-packages (from requests->dash>=2.0.0->dash-bootstrap-components) (2.0.4)\n",
      "Requirement already satisfied: idna<4,>=2.5 in c:\\users\\lmhub\\miniconda3\\envs\\ds-env\\lib\\site-packages (from requests->dash>=2.0.0->dash-bootstrap-components) (3.4)\n",
      "Requirement already satisfied: urllib3<1.27,>=1.21.1 in c:\\users\\lmhub\\miniconda3\\envs\\ds-env\\lib\\site-packages (from requests->dash>=2.0.0->dash-bootstrap-components) (1.26.15)\n",
      "Requirement already satisfied: certifi>=2017.4.17 in c:\\users\\lmhub\\miniconda3\\envs\\ds-env\\lib\\site-packages (from requests->dash>=2.0.0->dash-bootstrap-components) (2023.5.7)\n",
      "Requirement already satisfied: six>=1.7.0 in c:\\users\\lmhub\\miniconda3\\envs\\ds-env\\lib\\site-packages (from retrying->dash>=2.0.0->dash-bootstrap-components) (1.16.0)\n",
      "Requirement already satisfied: colorama in c:\\users\\lmhub\\miniconda3\\envs\\ds-env\\lib\\site-packages (from click>=8.1.3->Flask<3.1,>=1.0.4->dash>=2.0.0->dash-bootstrap-components) (0.4.6)\n",
      "Installing collected packages: dash-bootstrap-components\n",
      "Successfully installed dash-bootstrap-components-1.6.0\n"
     ]
    }
   ],
   "source": [
    "!pip install dash-bootstrap-components"
   ]
  },
  {
   "cell_type": "code",
   "execution_count": 42,
   "id": "98690be0",
   "metadata": {},
   "outputs": [
    {
     "data": {
      "text/html": [
       "\n",
       "        <iframe\n",
       "            width=\"100%\"\n",
       "            height=\"650\"\n",
       "            src=\"http://127.0.0.1:8051/\"\n",
       "            frameborder=\"0\"\n",
       "            allowfullscreen\n",
       "            \n",
       "        ></iframe>\n",
       "        "
      ],
      "text/plain": [
       "<IPython.lib.display.IFrame at 0x2563903a050>"
      ]
     },
     "metadata": {},
     "output_type": "display_data"
    }
   ],
   "source": [
    "import os\n",
    "import psycopg2\n",
    "from sqlalchemy import create_engine\n",
    "from dotenv import load_dotenv\n",
    "import pandas as pd\n",
    "from datetime import datetime, timedelta\n",
    "import random\n",
    "import plotly.express as px\n",
    "import dash\n",
    "from dash import dcc, html\n",
    "from dash.dependencies import Input, Output\n",
    "import dash_bootstrap_components as dbc\n",
    "import webbrowser\n",
    "\n",
    "# Load environment variables from .env file\n",
    "load_dotenv('postgres.env')\n",
    "\n",
    "# Retrieve environment variables\n",
    "dbname = os.getenv('PGDATABASE')\n",
    "user = os.getenv('PGUSER')\n",
    "password = os.getenv('PGPASSWORD')\n",
    "host = os.getenv('PGHOST')\n",
    "port = os.getenv('PGPORT')\n",
    "\n",
    "# Create SQLAlchemy engine\n",
    "engine = create_engine(f'postgresql://{user}:{password}@{host}:{port}/{dbname}')\n",
    "\n",
    "# Fetch data from PostgreSQL\n",
    "def fetch_data():\n",
    "    query = \"SELECT * FROM user_activities;\"\n",
    "    df = pd.read_sql(query, engine)\n",
    "    \n",
    "    # Ensure date is datetime\n",
    "    df['date'] = pd.to_datetime(df['date'])\n",
    "    \n",
    "    # Filter data to last 30 days\n",
    "    last_30_days = datetime.now() - timedelta(days=30)\n",
    "    df = df[df['date'] >= last_30_days]\n",
    "    \n",
    "    return df\n",
    "\n",
    "# Load data\n",
    "df = fetch_data()\n",
    "\n",
    "# Initialize the Dash app\n",
    "app = dash.Dash(__name__)\n",
    "\n",
    "app.layout = html.Div([\n",
    "    html.H1(\"Mood Dashboard\", style={'text-align': 'center'}),\n",
    "    html.Img(src=\"https://images.unsplash.com/photo-1611267254323-4db7b39c732c\", style={\"display\": \"block\", \"margin-left\": \"auto\", \"margin-right\": \"auto\", \"width\": \"200px\"}),\n",
    "    html.Div([\n",
    "        dcc.Graph(id='mood-bar-chart'),\n",
    "        dcc.Graph(id='sleep-energy-scatter-plot'),\n",
    "    ], style={'display': 'flex'}),\n",
    "    html.Div([\n",
    "        dcc.Graph(id='sleep-quality-mood-chart'),\n",
    "        dcc.Graph(id='activity-screen-time-mood-chart'),\n",
    "    ], style={'display': 'flex'}),\n",
    "    html.Div([\n",
    "        dcc.Graph(id='social-interaction-line-chart'),\n",
    "        dcc.Graph(id='weather-mood-scatter-plot'),\n",
    "    ], style={'display': 'flex'}),\n",
    "    html.Div(id='summary-stats')\n",
    "])\n",
    "\n",
    "@app.callback(\n",
    "    Output('mood-bar-chart', 'figure'),\n",
    "    Input('mood-bar-chart', 'id')\n",
    ")\n",
    "def update_mood_bar_chart(_):\n",
    "    # Aggregate mood counts\n",
    "    mood_counts = df['mood'].value_counts().reset_index()\n",
    "    mood_counts.columns = ['mood', 'count']\n",
    "    fig = px.bar(mood_counts, x='mood', y='count', title='Mood Counts Over Last 30 Days')\n",
    "    return fig\n",
    "\n",
    "@app.callback(\n",
    "    Output('sleep-energy-scatter-plot', 'figure'),\n",
    "    Input('sleep-energy-scatter-plot', 'id')\n",
    ")\n",
    "def update_sleep_energy_scatter_plot(_):\n",
    "    fig = px.scatter(df, x='sleep_hours', y='energy_level', trendline='ols', title='Sleep Hours vs. Energy Level')\n",
    "    return fig\n",
    "\n",
    "@app.callback(\n",
    "    Output('sleep-quality-mood-chart', 'figure'),\n",
    "    Input('sleep-quality-mood-chart', 'id')\n",
    ")\n",
    "def update_sleep_quality_mood_chart(_):\n",
    "    fig = px.box(df, x='mood', y='sleep_quality', title='Sleep Quality vs. Mood')\n",
    "    return fig\n",
    "\n",
    "@app.callback(\n",
    "    Output('activity-screen-time-mood-chart', 'figure'),\n",
    "    Input('activity-screen-time-mood-chart', 'id')\n",
    ")\n",
    "def update_activity_screen_time_mood_chart(_):\n",
    "    # Aggregate workout minutes and screen time minutes by mood\n",
    "    agg_activity = df.groupby('mood', as_index=False)['workout_minutes'].mean(numeric_only=True)\n",
    "    agg_screen_time = df.groupby('mood', as_index=False)['screen_time_minutes'].mean(numeric_only=True)\n",
    "\n",
    "    # Combine the data\n",
    "    agg_combined = pd.merge(agg_activity, agg_screen_time, on='mood')\n",
    "    fig = px.line(agg_combined, x='mood', y=['workout_minutes', 'screen_time_minutes'], title='Average Physical Activity and Screen Time vs. Mood')\n",
    "    fig.update_traces(line=dict(color='red'), selector=dict(name='workout_minutes'))\n",
    "    fig.update_traces(line=dict(color='blue'), selector=dict(name='screen_time_minutes'))\n",
    "    return fig\n",
    "\n",
    "@app.callback(\n",
    "    Output('social-interaction-line-chart', 'figure'),\n",
    "    Input('social-interaction-line-chart', 'id')\n",
    ")\n",
    "def update_social_interaction_line_chart(_):\n",
    "    df_grouped = df.groupby('date').mean(numeric_only=True).reset_index()\n",
    "    fig = px.line(df_grouped, x='date', y='social_interaction_minutes', title='Average Social Interaction Minutes Over Last 30 Days')\n",
    "    return fig\n",
    "\n",
    "@app.callback(\n",
    "    Output('weather-mood-scatter-plot', 'figure'),\n",
    "    Input('weather-mood-scatter-plot', 'id')\n",
    ")\n",
    "def update_weather_mood_scatter_plot(_):\n",
    "    fig = px.scatter(df, x='rainfall_mm', y='sunshine_hours', color='mood', title='Effects of Rainfall and Sunshine Hours on Mood')\n",
    "    return fig\n",
    "\n",
    "# Run the app on a different port and open in a new tab\n",
    "if __name__ == '__main__':\n",
    "    port = 8051\n",
    "    webbrowser.open_new_tab(f\"http://127.0.0.1:{port}\")\n",
    "    app.run_server(debug=True, port=port)"
   ]
  },
  {
   "cell_type": "code",
   "execution_count": null,
   "id": "168f7fbc",
   "metadata": {},
   "outputs": [],
   "source": []
  },
  {
   "cell_type": "code",
   "execution_count": null,
   "id": "d6752685",
   "metadata": {},
   "outputs": [],
   "source": []
  }
 ],
 "metadata": {
  "kernelspec": {
   "display_name": "Python 3 (ipykernel)",
   "language": "python",
   "name": "python3"
  },
  "language_info": {
   "codemirror_mode": {
    "name": "ipython",
    "version": 3
   },
   "file_extension": ".py",
   "mimetype": "text/x-python",
   "name": "python",
   "nbconvert_exporter": "python",
   "pygments_lexer": "ipython3",
   "version": "3.11.3"
  }
 },
 "nbformat": 4,
 "nbformat_minor": 5
}
